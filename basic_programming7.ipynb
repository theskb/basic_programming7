{
 "cells": [
  {
   "cell_type": "code",
   "execution_count": null,
   "metadata": {},
   "outputs": [],
   "source": [
    "#Q1.Write a Python Program to find sum of array?"
   ]
  },
  {
   "cell_type": "code",
   "execution_count": 1,
   "metadata": {},
   "outputs": [
    {
     "name": "stdout",
     "output_type": "stream",
     "text": [
      "sum is : 15\n"
     ]
    }
   ],
   "source": [
    "arr = [0,1,2,3,4,5]\n",
    "sum=0\n",
    "for i in range(0, len(arr)):\n",
    "    sum += arr[i]\n",
    "print(\"sum is :\",sum)"
   ]
  },
  {
   "cell_type": "code",
   "execution_count": null,
   "metadata": {},
   "outputs": [],
   "source": [
    "#Q2.Write a Python Program to find largest element in an array?"
   ]
  },
  {
   "cell_type": "code",
   "execution_count": 7,
   "metadata": {},
   "outputs": [
    {
     "name": "stdout",
     "output_type": "stream",
     "text": [
      "largest element in [0.1, 2, 5, 8, 24, 9, 15] is 24\n"
     ]
    }
   ],
   "source": [
    "c=0\n",
    "arr=[0.1,2,5,8,24,9,15]\n",
    "for i in range(0,len(arr)):\n",
    "    if c > arr[i]:\n",
    "        continue\n",
    "    else :\n",
    "        c= arr[i]\n",
    "print(\"largest element in {} is {}\".format(arr,c))"
   ]
  },
  {
   "cell_type": "code",
   "execution_count": null,
   "metadata": {},
   "outputs": [],
   "source": [
    "#Q3.Write a Python Program for array rotation?"
   ]
  },
  {
   "cell_type": "code",
   "execution_count": 18,
   "metadata": {},
   "outputs": [
    {
     "name": "stdout",
     "output_type": "stream",
     "text": [
      "Number of rotation :3\n",
      "4  5  6  7  1  2  3  "
     ]
    }
   ],
   "source": [
    "#leftrotation\n",
    "\n",
    "def leftrotation(arr,rot,length):\n",
    "    for i in range(rot):\n",
    "        rotationbyone(arr,length)\n",
    "\n",
    "def rotationbyone(arr,length):\n",
    "    temp =arr[0]\n",
    "    for i in range(length-1):\n",
    "        arr[i]=arr[i+1]\n",
    "    arr[length-1]=temp\n",
    "\n",
    "def printarray(arr,size):\n",
    "    for i in range(size):\n",
    "        print(\"%d \"%arr[i],end=\" \")\n",
    "    \n",
    "arr=[1,2,3,4,5,6,7]\n",
    "length=len(arr)\n",
    "rot=int(input(\"Number of rotation :\"))\n",
    "leftrotation(arr,rot,length)\n",
    "printarray(arr,length)\n"
   ]
  },
  {
   "cell_type": "code",
   "execution_count": null,
   "metadata": {},
   "outputs": [],
   "source": [
    "#Q4.Write a Python Program to Split the array and add the first part to the end?"
   ]
  },
  {
   "cell_type": "code",
   "execution_count": 2,
   "metadata": {},
   "outputs": [
    {
     "name": "stdout",
     "output_type": "stream",
     "text": [
      "Enter the number of element to split :2\n",
      "The split list is : [1, 2]\n",
      "The list after split is: [3, 4, 5, 6, 7, 1, 2]\n"
     ]
    }
   ],
   "source": [
    "arr=[1,2,3,4,5,6,7]\n",
    "newarr=[]\n",
    "l=len(arr)\n",
    "splt=int(input(\"Enter the number of element to split :\"))\n",
    "if splt> l:\n",
    "    print(\"can't split\")\n",
    "else:\n",
    "    print(\"The split list is :\",arr[:splt])\n",
    "    newarr[:] = arr[splt:l] +arr[:splt]\n",
    "    print(\"The list after split is:\",newarr)"
   ]
  },
  {
   "cell_type": "code",
   "execution_count": null,
   "metadata": {},
   "outputs": [],
   "source": [
    "#5.Write a Python Program to check if given array is Monotonic?"
   ]
  },
  {
   "cell_type": "code",
   "execution_count": 3,
   "metadata": {},
   "outputs": [
    {
     "name": "stdout",
     "output_type": "stream",
     "text": [
      "Enter the lenth of your list : 4\n",
      "2\n",
      "3\n",
      "5\n",
      "6\n",
      "The List is  [2, 3, 5, 6]\n",
      "Monotonic\n"
     ]
    }
   ],
   "source": [
    "l = int(input(\"Enter the lenth of your list : \"))\n",
    "arr = []\n",
    "\n",
    "for i in range(l):\n",
    "    arr.append(int(input()))\n",
    "print(\"The List is \",arr)\n",
    "\n",
    "if all((arr[i] <= arr[i+1] for i in range(l-1)) or (arr[i] >= lst[i+1] for i in range(l-1))):\n",
    "    print(\"Monotonic\")\n",
    "else:\n",
    "    print(\"Not Monotonic\")"
   ]
  },
  {
   "cell_type": "code",
   "execution_count": null,
   "metadata": {},
   "outputs": [],
   "source": []
  }
 ],
 "metadata": {
  "kernelspec": {
   "display_name": "Python 3",
   "language": "python",
   "name": "python3"
  },
  "language_info": {
   "codemirror_mode": {
    "name": "ipython",
    "version": 3
   },
   "file_extension": ".py",
   "mimetype": "text/x-python",
   "name": "python",
   "nbconvert_exporter": "python",
   "pygments_lexer": "ipython3",
   "version": "3.8.5"
  }
 },
 "nbformat": 4,
 "nbformat_minor": 4
}
